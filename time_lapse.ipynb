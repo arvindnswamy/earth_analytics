{
 "cells": [
  {
   "cell_type": "markdown",
   "metadata": {},
   "source": [
    "# time_lapse\n",
    "Author: Connor Finn <br>\n",
    "Date: July 26, 2020 <br>\n",
    "\n",
    "Description: <dir>\n",
    "    This is a script which generates a time lapse vido. For this, it is recomended that the 'LANDSAT/LC08/C01/T1_TOA' satelite is used. "
   ]
  },
  {
   "cell_type": "markdown",
   "metadata": {},
   "source": [
    "# Set Up"
   ]
  },
  {
   "cell_type": "code",
   "execution_count": 1,
   "metadata": {},
   "outputs": [
    {
     "data": {
      "text/html": [
       "<p>To authorize access needed by Earth Engine, open the following\n",
       "        URL in a web browser and follow the instructions:</p>\n",
       "        <p><a href=https://accounts.google.com/o/oauth2/auth?client_id=517222506229-vsmmajv00ul0bs7p89v5m89qs8eb9359.apps.googleusercontent.com&scope=https%3A%2F%2Fwww.googleapis.com%2Fauth%2Fearthengine+https%3A%2F%2Fwww.googleapis.com%2Fauth%2Fdevstorage.full_control&redirect_uri=urn%3Aietf%3Awg%3Aoauth%3A2.0%3Aoob&response_type=code&code_challenge=ZMN6LeasMbk6VHAosdsg3xNUmO3EWRv91kYU-WIwTqM&code_challenge_method=S256>https://accounts.google.com/o/oauth2/auth?client_id=517222506229-vsmmajv00ul0bs7p89v5m89qs8eb9359.apps.googleusercontent.com&scope=https%3A%2F%2Fwww.googleapis.com%2Fauth%2Fearthengine+https%3A%2F%2Fwww.googleapis.com%2Fauth%2Fdevstorage.full_control&redirect_uri=urn%3Aietf%3Awg%3Aoauth%3A2.0%3Aoob&response_type=code&code_challenge=ZMN6LeasMbk6VHAosdsg3xNUmO3EWRv91kYU-WIwTqM&code_challenge_method=S256</a></p>\n",
       "        <p>The authorization workflow will generate a code, which you\n",
       "        should paste in the box below</p>\n",
       "        "
      ],
      "text/plain": [
       "<IPython.core.display.HTML object>"
      ]
     },
     "metadata": {},
     "output_type": "display_data"
    },
    {
     "name": "stdout",
     "output_type": "stream",
     "text": [
      "Enter verification code: 4/2gGaiByIcXSamQsu_i1l0pOlPbFTWXIGLs-9EnQW2v1n_uYYY4xvkN4\n",
      "\n",
      "Successfully saved authorization token.\n"
     ]
    }
   ],
   "source": [
    "import ee\n",
    "import numpy as np\n",
    "from IPython.display import Image\n",
    "\n",
    "# Trigger the authentication flow.\n",
    "ee.Authenticate()"
   ]
  },
  {
   "cell_type": "code",
   "execution_count": 2,
   "metadata": {},
   "outputs": [],
   "source": [
    "ee.Initialize()"
   ]
  },
  {
   "cell_type": "markdown",
   "metadata": {},
   "source": [
    "# Time Lapse Class"
   ]
  },
  {
   "cell_type": "code",
   "execution_count": 3,
   "metadata": {},
   "outputs": [],
   "source": [
    "class Time_Lapse_Builder():\n",
    "    \n",
    "    \n",
    "    def __init__(self):\n",
    "        self.collection = None\n",
    "        \n",
    "\n",
    "    def get_collection(self, path_list , row_list , satelite , start_date , end_date , max_cloud_percentage , months):\n",
    "\n",
    "        # get image collection object\n",
    "        coll = ee.ImageCollection(satelite)\\\n",
    "            .filterDate(start_date, end_date)\\\n",
    "            .filter(ee.Filter.inList('WRS_PATH', path_list))\\\n",
    "            .filter(ee.Filter.inList('WRS_ROW', row_list))\\\n",
    "            .filter(ee.Filter.lt('CLOUD_COVER' , max_cloud_percentage))\\\n",
    "            .filter(ee.Filter.calendarRange(months[0],months[1],'month'))    # just may data\n",
    "        self.collection = coll\n",
    "        \n",
    "        \n",
    "    def build_movie(self , region , band_list , file_name):\n",
    "        from ee import batch\n",
    "        # select the bands we want to video\n",
    "        bands = self.collection.select(band_list)\n",
    "\n",
    "        # call the conversion    \n",
    "        outputVideo = bands.map(lambda x: x.multiply(512).uint8())\n",
    "\n",
    "        #Export to video.\n",
    "        out = batch.Export.video.toDrive( outputVideo, description= file_name, dimensions = 720,\\\n",
    "                            framesPerSecond = 2, region= region, maxFrames=10000)\n",
    "\n",
    "        # process the video\n",
    "        process = batch.Task.start(out)\n",
    "        \n",
    "    def build_movie_url(self , region , band_list):\n",
    "        bands = self.collection.select(band_list)\n",
    "        outputVideo = bands.map(lambda x: x.multiply(512).uint8())\n",
    "        vid = outputVideo.getVideoThumbURL({\n",
    "              'dimensions': 720,\n",
    "              'bands': band_list, \n",
    "              'framesPerSecond' : 2,\n",
    "               'region' : ee.Geometry.Polygon([region]) \n",
    "        })\n",
    "    \n",
    "        return vid\n",
    "        \n",
    "    "
   ]
  },
  {
   "cell_type": "markdown",
   "metadata": {},
   "source": [
    "# use the class"
   ]
  },
  {
   "cell_type": "markdown",
   "metadata": {},
   "source": [
    "## Set up"
   ]
  },
  {
   "cell_type": "code",
   "execution_count": 8,
   "metadata": {},
   "outputs": [],
   "source": [
    "# initialize the class\n",
    "mc = Time_Lapse_Builder()\n",
    "\n",
    "# fill in the information\n",
    "p = [39]                                    # path       \n",
    "r = [37]                                    # row \n",
    "sat = 'LANDSAT/LC08/C01/T1_TOA'             # use this satelite\n",
    "sd = '2013-05-01'                           # start date\n",
    "ed = '2020-05-01'                           # end date\n",
    "cc= 20                                      # max cloud cover percentage\n",
    "months = [5 , 5]                            # months [start, end]\n",
    "\n",
    "# collect the images\n",
    "mc.get_collection(p, r, sat, sd, ed, cc , months)\n",
    "\n",
    "# this surrounds the box\n",
    "lake_bounding_box = ([-116.2170533393782,33.578034161036506],\\\n",
    " [-116.1895875190657,33.03171253668441],\\\n",
    " [-115.3601197456282,33.045527348747925],\\\n",
    " [-115.4040650581282,33.64665492287974])\n",
    "\n",
    "# rgb bands\n",
    "band_list = ['B4', 'B3', 'B2']"
   ]
  },
  {
   "cell_type": "markdown",
   "metadata": {},
   "source": [
    "## Send movie to Drive\n",
    "The code in this section will send your video to your current google drive account"
   ]
  },
  {
   "cell_type": "code",
   "execution_count": 9,
   "metadata": {},
   "outputs": [],
   "source": [
    "file_name = 'salton_sea_TimeLapse'\n",
    "mc.build_movie(lake_bounding_box, band_list , file_name)"
   ]
  },
  {
   "cell_type": "markdown",
   "metadata": {},
   "source": [
    "## Display movie Via Url\n",
    "I couldn't get this to show up in the notebook using ipython.display. for now just paste the resultant url in your drive"
   ]
  },
  {
   "cell_type": "code",
   "execution_count": 10,
   "metadata": {},
   "outputs": [
    {
     "data": {
      "text/plain": [
       "'https://earthengine.googleapis.com/v1alpha/projects/earthengine-legacy/videoThumbnails/ad85b98bc7e7b555759b098dbe38325b-9ba13ccbb30845f71edf467de8f7b282:getPixels'"
      ]
     },
     "execution_count": 10,
     "metadata": {},
     "output_type": "execute_result"
    }
   ],
   "source": [
    "mc.build_movie_url(lake_bounding_box, band_list)"
   ]
  },
  {
   "cell_type": "markdown",
   "metadata": {},
   "source": [
    "# california path row\n",
    "\n",
    "This is a map of the landsat path and rows for california"
   ]
  },
  {
   "cell_type": "code",
   "execution_count": 7,
   "metadata": {},
   "outputs": [
    {
     "data": {
      "text/html": [
       "<img src=\"http://www.edc.uri.edu/nrs/classes/nrs409509/RS/Lectures/409509SatelliteRemoteSensing-2014.pdf\"/>"
      ],
      "text/plain": [
       "<IPython.core.display.Image object>"
      ]
     },
     "execution_count": 7,
     "metadata": {},
     "output_type": "execute_result"
    }
   ],
   "source": [
    "Image(url = \"http://www.edc.uri.edu/nrs/classes/nrs409509/RS/Lectures/409509SatelliteRemoteSensing-2014.pdf\")"
   ]
  },
  {
   "cell_type": "code",
   "execution_count": null,
   "metadata": {},
   "outputs": [],
   "source": []
  }
 ],
 "metadata": {
  "kernelspec": {
   "display_name": "earth_analytics",
   "language": "python",
   "name": "earth_analytics"
  },
  "language_info": {
   "codemirror_mode": {
    "name": "ipython",
    "version": 3
   },
   "file_extension": ".py",
   "mimetype": "text/x-python",
   "name": "python",
   "nbconvert_exporter": "python",
   "pygments_lexer": "ipython3",
   "version": "3.7.7"
  }
 },
 "nbformat": 4,
 "nbformat_minor": 4
}
