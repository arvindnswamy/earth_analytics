{
 "cells": [
  {
   "cell_type": "markdown",
   "metadata": {},
   "source": [
    "# Earth Engine API\n",
    "Author: Connor Finn <br>\n",
    "Date: May 28, 2020 <br>\n",
    "\n",
    "Description: This is a script used to work with the google earth engine api. <dir>\n",
    "    * Image Visualization: In this section, we display an image on a map, and through iPython\n",
    "    * Collecting a range of images: This is done in 2 ways\n",
    "        + Collecting a range of image objects  ~ doing some light data manipulation with them\n",
    "        + Collecting an imageCollection object ~ want to be able to map functions to these!\n",
    "         \n",
    "    * TimeLapse Creations\n",
    "        + As of now, I am only able to follow the tutorial.\n",
    "        + I would love to be able to apply this to our region."
   ]
  },
  {
   "cell_type": "markdown",
   "metadata": {},
   "source": [
    "## The First step is to set up your workspace. If you run into trouble with this, ping me on slack ~ I had to make a few changes locally to get the earth engine api working.\n",
    "\n",
    "Note: origionally the authenticate function worked only on google collab (i.e. not locally) to resolve this, i read this [stack_overflow](https://stackoverflow.com/questions/50236117/scraping-ssl-certificate-verify-failed-error-for-http-en-wikipedia-org) article."
   ]
  },
  {
   "cell_type": "code",
   "execution_count": 111,
   "metadata": {
    "scrolled": true
   },
   "outputs": [
    {
     "data": {
      "text/html": [
       "<p>To authorize access needed by Earth Engine, open the following\n",
       "        URL in a web browser and follow the instructions:</p>\n",
       "        <p><a href=https://accounts.google.com/o/oauth2/auth?client_id=517222506229-vsmmajv00ul0bs7p89v5m89qs8eb9359.apps.googleusercontent.com&scope=https%3A%2F%2Fwww.googleapis.com%2Fauth%2Fearthengine+https%3A%2F%2Fwww.googleapis.com%2Fauth%2Fdevstorage.full_control&redirect_uri=urn%3Aietf%3Awg%3Aoauth%3A2.0%3Aoob&response_type=code&code_challenge=FavTxDdUriPtHkdEr9tdaUA9Ki-GT8ls8by4-Eflg4A&code_challenge_method=S256>https://accounts.google.com/o/oauth2/auth?client_id=517222506229-vsmmajv00ul0bs7p89v5m89qs8eb9359.apps.googleusercontent.com&scope=https%3A%2F%2Fwww.googleapis.com%2Fauth%2Fearthengine+https%3A%2F%2Fwww.googleapis.com%2Fauth%2Fdevstorage.full_control&redirect_uri=urn%3Aietf%3Awg%3Aoauth%3A2.0%3Aoob&response_type=code&code_challenge=FavTxDdUriPtHkdEr9tdaUA9Ki-GT8ls8by4-Eflg4A&code_challenge_method=S256</a></p>\n",
       "        <p>The authorization workflow will generate a code, which you\n",
       "        should paste in the box below</p>\n",
       "        "
      ],
      "text/plain": [
       "<IPython.core.display.HTML object>"
      ]
     },
     "metadata": {},
     "output_type": "display_data"
    },
    {
     "name": "stdout",
     "output_type": "stream",
     "text": [
      "Enter verification code: 4/0wG63-gZOJSNCRv_EjR46RrQNnDw-jPCvMNjyxnq37CgAyHAFq3XKCM\n",
      "\n",
      "Successfully saved authorization token.\n"
     ]
    }
   ],
   "source": [
    "import ee          # pip install \n",
    "from IPython.display import Image\n",
    "import folium   # for use in map graphics\n",
    "\n",
    "# Trigger the authentication flow.\n",
    "ee.Authenticate()\n"
   ]
  },
  {
   "cell_type": "markdown",
   "metadata": {},
   "source": [
    "# Image Visualization\n",
    "This [documentation](https://developers.google.com/earth-engine/image_info) is used for this section."
   ]
  },
  {
   "cell_type": "code",
   "execution_count": 35,
   "metadata": {},
   "outputs": [],
   "source": [
    "ee.Initialize()\n",
    "image = ee.Image('LANDSAT/LC08/C01/T1_TOA/LC08_044035_20140318') # SF Bay area again\n",
    "ndwi = image.normalizedDifference(['B3', 'B5'])  #Compute ND water index"
   ]
  },
  {
   "cell_type": "code",
   "execution_count": 36,
   "metadata": {},
   "outputs": [
    {
     "data": {
      "text/plain": [
       "['B1', 'B2', 'B3', 'B4', 'B5', 'B6', 'B7', 'B8', 'B9', 'B10', 'B11', 'BQA']"
      ]
     },
     "execution_count": 36,
     "metadata": {},
     "output_type": "execute_result"
    }
   ],
   "source": [
    "image = ee.Image('LANDSAT/LC08/C01/T1/LC08_044034_20140318')\n",
    "bands = image.bandNames()\n",
    "bands.getInfo()"
   ]
  },
  {
   "cell_type": "markdown",
   "metadata": {},
   "source": [
    "### Map_Display class \n",
    "This is a class that will display an image over a Folium Map"
   ]
  },
  {
   "cell_type": "code",
   "execution_count": 113,
   "metadata": {
    "scrolled": true
   },
   "outputs": [],
   "source": [
    "# I would Like to make my own class for this.\n",
    "class Map_Display():\n",
    "\n",
    "    def __init__(self , location , zoom , height  ):\n",
    "      self.m =  folium.Map(location= location , zoom_start = zoom)\n",
    "\n",
    "\n",
    "    def add_ee_layer(self, ee_image_object, vis_params, name):\n",
    "        map_id_dict = ee.Image(ee_image_object).getMapId(vis_params)\n",
    "        folium.raster_layers.TileLayer(\n",
    "        tiles = map_id_dict['tile_fetcher'].url_format,\n",
    "        attr = \"Map Data © Google Earth Engine\",\n",
    "        name = name,\n",
    "        overlay = True,\n",
    "        control = True\n",
    "        ).add_to(self.m)\n",
    "\n",
    "    def add_child(self , child_object):\n",
    "      self.m.add_child(child_object)\n",
    "\n",
    "    def show_map(self):\n",
    "      display(self.m)\n"
   ]
  },
  {
   "cell_type": "markdown",
   "metadata": {},
   "source": [
    "### Test out the map class"
   ]
  },
  {
   "cell_type": "code",
   "execution_count": 114,
   "metadata": {},
   "outputs": [
    {
     "data": {
      "text/html": [
       "<div style=\"width:100%;\"><div style=\"position:relative;width:100%;height:0;padding-bottom:60%;\"><span style=\"color:#565656\">Make this Notebook Trusted to load map: File -> Trust Notebook</span><iframe src=\"about:blank\" style=\"position:absolute;width:100%;height:100%;left:0;top:0;border:none !important;\" data-html=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 onload=\"this.contentDocument.open();this.contentDocument.write(atob(this.getAttribute('data-html')));this.contentDocument.close();\" allowfullscreen webkitallowfullscreen mozallowfullscreen></iframe></div></div>"
      ],
      "text/plain": [
       "<folium.folium.Map at 0x112e4f790>"
      ]
     },
     "metadata": {},
     "output_type": "display_data"
    }
   ],
   "source": [
    "\n",
    "# Test it out\n",
    "md = Map_Display([37.2, -121] , zoom = 8 , height = 500)\n",
    "\n",
    "image = ee.Image('LANDSAT/LC08/C01/T1_TOA/LC08_044034_20140318')\n",
    "\n",
    "ndwi = image.normalizedDifference(['B3', 'B5'])  # Water index\n",
    "ndvi = image.normalizedDifference(['B5', 'B4'])  # Land index\n",
    "\n",
    "# Set visualization parameters.\n",
    "vis_params_W = {\n",
    "  'min': 0.5,\n",
    "  'max': 1.0,\n",
    "  'palette': ['00FFFF', '0000FF']}\n",
    "\n",
    "vis_params_V = {\n",
    "  'min': -1,\n",
    "  'max': 1,\n",
    "  #'palette': ['#d73027', '#f46d43', '#fdae61','#fee08b', '#d9ef8b', '#a6d96a', '#66bd63', '#1a9850']\n",
    "  #'palette': ['blue', 'white', 'green']\n",
    "    'palette': ['blue' , 'white' , 'green']\n",
    "  }\n",
    "\n",
    "\n",
    "# # Add the water index model to the map object.\n",
    "md.add_ee_layer(ndwi.updateMask(ndwi.gt(0)), vis_params_W, 'NDWI')\n",
    "\n",
    "# # Add the vegetation index model to the map object.\n",
    "md.add_ee_layer(ndvi, vis_params_V, 'NDVI')\n",
    "\n",
    "\n",
    "# # Add a layer control panel to the map.\n",
    "#md.add_child(folium.LayerControl())\n",
    "\n",
    "new = ee.Image('LANDSAT/LC08/C01/T1/LC08_044034_20140318').select('B8')\n",
    "\n",
    "# path 44, row 34 -> 3 digits for each!!\n",
    "\n",
    "# edge detection using the ee provided kernel\n",
    "canny = ee.Algorithms.CannyEdgeDetector(image = new, threshold = 100, sigma= 1)  # perform edge detection\n",
    "hough = ee.Algorithms.HoughTransform(canny, 256, 600, 100)  # extracts lines from the canny result\n",
    "#md.add_ee_layer(hough, {}, 'hough')\n",
    "\n",
    "\n",
    "\n",
    "md.show_map()\n"
   ]
  },
  {
   "cell_type": "markdown",
   "metadata": {},
   "source": [
    "### Display Image with iPython\n",
    "Below is a workflow for displaying an image with iPython.  T"
   ]
  },
  {
   "cell_type": "code",
   "execution_count": 120,
   "metadata": {},
   "outputs": [
    {
     "data": {
      "text/html": [
       "<img src=\"https://earthengine.googleapis.com/v1alpha/projects/earthengine-legacy/thumbnails/78af9a73922bee04d50f5da445c26ebb-25a2156b558ef9c1600423c4f45f5d2b:getPixels\"/>"
      ],
      "text/plain": [
       "<IPython.core.display.Image object>"
      ]
     },
     "metadata": {},
     "output_type": "display_data"
    }
   ],
   "source": [
    "parameters = {'min': -1.0, # value which is mapped to 0\n",
    "              'max': 1.0,  # value which is mapped to 255\n",
    "              'dimensions': 768,   # size of the image \n",
    "              'bands': ['nd'],     # The bands we select\n",
    "              'palette': ['blue', 'white', 'green'],  # pretty sure you only use a palette for \n",
    "              #'region': ee.Geometry.Rectangle([-74.04, 40.69, -73.82, 40.94])   # Note this region is for nyc\n",
    "}\n",
    "image1 = ndwi\n",
    "display(Image(url = image1.getThumbUrl(parameters)))"
   ]
  },
  {
   "cell_type": "markdown",
   "metadata": {},
   "source": [
    "# Get a Large Range of Images"
   ]
  },
  {
   "cell_type": "markdown",
   "metadata": {},
   "source": [
    "### First Image Objects. \n",
    "     The function below will return a list of images"
   ]
  },
  {
   "cell_type": "code",
   "execution_count": 121,
   "metadata": {},
   "outputs": [],
   "source": [
    "def get_images(path_list , row_list , satelite , start_date , end_date , max_cloud_percentage):\n",
    "    \n",
    "    # get image collection object\n",
    "    coll = ee.ImageCollection(satelite)\\\n",
    "        .filterDate(start_date, end_date)\\\n",
    "        .filter(ee.Filter.inList('WRS_PATH', path_list))\\\n",
    "        .filter(ee.Filter.inList('WRS_ROW', row_list))\\\n",
    "        .filter(ee.Filter.lt('CLOUD_COVER' , max_cloud_percentage))  # note ~ not less than or equal to\n",
    "\n",
    "    # get image_id's\n",
    "    image_ids = list( map( lambda x : x['id'] , coll.getInfo()['features'] ) ) \n",
    "    \n",
    "    # get image objects\n",
    "    images = list( map( lambda x: ee.Image(x) , image_ids ) )\n",
    "    \n",
    "    return images\n"
   ]
  },
  {
   "cell_type": "markdown",
   "metadata": {},
   "source": [
    "### Try it out\n",
    "This will get a list of images from NYC, from the years 2014 to 2020. (Note Landsat 8 only goes back to 2013)"
   ]
  },
  {
   "cell_type": "code",
   "execution_count": 123,
   "metadata": {},
   "outputs": [],
   "source": [
    "p = [14]\n",
    "r = [32]\n",
    "sat = 'LANDSAT/LC08/C01/T1'\n",
    "sd = '2013-05-01'\n",
    "ed = '2020-05-01'\n",
    "cc= 10\n",
    "image_list = get_images(p, r, sat, sd, ed, cc)"
   ]
  },
  {
   "cell_type": "markdown",
   "metadata": {},
   "source": [
    "## Light Data Manipulation for these images"
   ]
  },
  {
   "cell_type": "markdown",
   "metadata": {},
   "source": [
    "### Get a Histogram of the Data"
   ]
  },
  {
   "cell_type": "code",
   "execution_count": 125,
   "metadata": {},
   "outputs": [
    {
     "data": {
      "text/plain": [
       "(array([1059., 3063., 2009., 1209.,  784.,  394.,  211.,  806.,  425.,\n",
       "          19.]),\n",
       " array([-0.55299221, -0.47549813, -0.39800405, -0.32050998, -0.2430159 ,\n",
       "        -0.16552182, -0.08802774, -0.01053366,  0.06696042,  0.1444545 ,\n",
       "         0.22194858]),\n",
       " <a list of 10 Patch objects>)"
      ]
     },
     "execution_count": 125,
     "metadata": {},
     "output_type": "execute_result"
    },
    {
     "data": {
      "image/png": "[encoded data removed]",
      "text/plain": [
       "<Figure size 432x288 with 1 Axes>"
      ]
     },
     "metadata": {
      "needs_background": "light"
     },
     "output_type": "display_data"
    }
   ],
   "source": [
    "image = image_list[0]  # Select an image\n",
    "ndwi = image.normalizedDifference(['B3', 'B5'])  #Compute ND water index\n",
    "\n",
    "# Get 10000 random pixels\n",
    "ndwi_dict = ndwi.sample(numPixels = 10000).reduceColumns(ee.Reducer.toList().repeat(1), ['nd']) \n",
    "# Build the histogram\n",
    "ndwi_list = ee.List(ndwi_dict.get('list'))\n",
    "ndwi_data = ndwi_list.getInfo()\n",
    "\n",
    "#Useful to get a sense of where the vegetation or water levels are on average accross an image\n",
    "import matplotlib.pyplot as plt\n",
    "plt.hist(ndwi_data[0])"
   ]
  },
  {
   "cell_type": "markdown",
   "metadata": {},
   "source": [
    "### Function that takes in a list of images, and returns a list of Ndwi images"
   ]
  },
  {
   "cell_type": "code",
   "execution_count": 126,
   "metadata": {},
   "outputs": [],
   "source": [
    "def get_ndwi(image_list):\n",
    "    return list( map( lambda x: x.normalizedDifference(['B5', 'B4']) , image_list))\n",
    "\n",
    "\n",
    "ndwi_list = get_ndwi(image_list)"
   ]
  },
  {
   "cell_type": "markdown",
   "metadata": {},
   "source": [
    "### Display the ndwi image using iPython method"
   ]
  },
  {
   "cell_type": "code",
   "execution_count": 127,
   "metadata": {},
   "outputs": [
    {
     "data": {
      "text/html": [
       "<img src=\"https://earthengine.googleapis.com/v1alpha/projects/earthengine-legacy/thumbnails/e71105721a3e0bb28ec7d68c0834cee2-b77e7af3726b621d8176d78ad49858dd:getPixels\"/>"
      ],
      "text/plain": [
       "<IPython.core.display.Image object>"
      ]
     },
     "metadata": {},
     "output_type": "display_data"
    }
   ],
   "source": [
    "\n",
    "parameters = {'min': -1.0,\n",
    "              'max': 1.0,\n",
    "              'dimensions': 768,\n",
    "              'bands': ['nd'],\n",
    "              'palette': ['blue', 'white', 'green'],\n",
    "              'region': ee.Geometry.Rectangle([-74.04, 40.69, -73.82, 40.94])\n",
    "}\n",
    "image1 = ndwi_list[0]\n",
    "display(Image(url = image1.getThumbUrl(parameters)))"
   ]
  },
  {
   "cell_type": "markdown",
   "metadata": {},
   "source": [
    "# Image Collection Objects"
   ]
  },
  {
   "cell_type": "code",
   "execution_count": 128,
   "metadata": {},
   "outputs": [],
   "source": [
    "def get_imagecollection(path_list, row_list, satellite, start_date, end_date, max_cloud_percentage):\n",
    "    coll = ee.ImageCollection(satellite).filterDate(start_date, end_date)\\\n",
    "            .filter(ee.Filter.inList('WRS_PATH', path_list))\\\n",
    "            .filter(ee.Filter.inList('WRS_ROW', row_list))\\\n",
    "            .filter(ee.Filter.lt('CLOUD_COVER', max_cloud_percentage))\n",
    "\n",
    "    return coll\n",
    "\n",
    "def getndvi(image):\n",
    "    return image.normalizedDifference(['B5','B4'])\n",
    " \n",
    "def conditional(image):\n",
    "    return ee.Algorithms.If(ee.Number(image.get('SUN_ELEVATION')).gt(40), image, ee.Image(0))"
   ]
  },
  {
   "cell_type": "code",
   "execution_count": 129,
   "metadata": {},
   "outputs": [],
   "source": [
    "# This function adds a band with the ndvi.\n",
    "\n",
    "def addNDVI(image):\n",
    "    return image.addBands(image.normalizedDifference(['B5', 'B4']))\n",
    "\n"
   ]
  },
  {
   "cell_type": "markdown",
   "metadata": {},
   "source": [
    "### I have been unable to map to an image collectg. The addNDVI function works on a single image, but I cannot map it accross an entire image collection\n"
   ]
  },
  {
   "cell_type": "code",
   "execution_count": 130,
   "metadata": {},
   "outputs": [],
   "source": [
    "imagecollection = get_imagecollection(p, r, sat, sd, ed, cc)"
   ]
  },
  {
   "cell_type": "code",
   "execution_count": 131,
   "metadata": {},
   "outputs": [],
   "source": [
    "imagecollection = imagecollection.map(algorithm=addNDVI)"
   ]
  },
  {
   "cell_type": "code",
   "execution_count": 132,
   "metadata": {},
   "outputs": [],
   "source": [
    "def extract_images(coll):\n",
    "    \n",
    "    # get image_id's\n",
    "    image_ids = list( map( lambda x : x['id'] , coll.getInfo()['features'] ) ) \n",
    "    \n",
    "    # get image objects\n",
    "    images = list( map( lambda x: ee.Image(x) , image_ids ) )\n",
    "    return images"
   ]
  },
  {
   "cell_type": "code",
   "execution_count": 273,
   "metadata": {},
   "outputs": [
    {
     "data": {
      "text/plain": [
       "34"
      ]
     },
     "execution_count": 273,
     "metadata": {},
     "output_type": "execute_result"
    }
   ],
   "source": [
    "ims = extract_images(imagecollection)\n",
    "len(ims)"
   ]
  },
  {
   "cell_type": "code",
   "execution_count": 274,
   "metadata": {},
   "outputs": [],
   "source": [
    "one = ims[0]"
   ]
  },
  {
   "cell_type": "code",
   "execution_count": 282,
   "metadata": {},
   "outputs": [
    {
     "data": {
      "text/plain": [
       "['B1',\n",
       " 'B2',\n",
       " 'B3',\n",
       " 'B4',\n",
       " 'B5',\n",
       " 'B6',\n",
       " 'B7',\n",
       " 'B8',\n",
       " 'B9',\n",
       " 'B10',\n",
       " 'B11',\n",
       " 'BQA',\n",
       " 'nd',\n",
       " 'nd_1',\n",
       " 'nd_2']"
      ]
     },
     "execution_count": 282,
     "metadata": {},
     "output_type": "execute_result"
    }
   ],
   "source": [
    "one.bandNames().getInfo()"
   ]
  },
  {
   "cell_type": "code",
   "execution_count": 281,
   "metadata": {},
   "outputs": [],
   "source": [
    "one = addNDVI(one)"
   ]
  },
  {
   "cell_type": "markdown",
   "metadata": {},
   "source": [
    "# Build a Timelapse"
   ]
  },
  {
   "cell_type": "markdown",
   "metadata": {},
   "source": [
    "## Tutorial\n",
    "blog](http://www.acgeospatial.co.uk/building-time-lapse-imagery-gee/) <dir>"
   ]
  },
  {
   "cell_type": "code",
   "execution_count": 138,
   "metadata": {},
   "outputs": [
    {
     "name": "stdout",
     "output_type": "stream",
     "text": [
      "about to build video\n",
      "process sent to cloud\n"
     ]
    }
   ],
   "source": [
    "\n",
    "from ee import batch\n",
    "\n",
    "\n",
    "## define your collection\n",
    "collection = ee.ImageCollection('LANDSAT/LC8_L1T_TOA')\n",
    "\n",
    "#Dubai Path and Row\n",
    "path = collection.filter(ee.Filter.eq('WRS_PATH', 160))\n",
    "pathrow = path.filter(ee.Filter.eq('WRS_ROW', 43))\n",
    " \n",
    "##Filter cloudy scenes.\n",
    "clouds = pathrow.filter(ee.Filter.lt('CLOUD_COVER', 5))\n",
    "\n",
    "## select the bands, we are going for true colour... but could be any!\n",
    "bands = clouds.select(['B3' , 'B2' , 'B1' ])\n",
    "\n",
    "##make the data 8-bit.\n",
    "def convertBit(image):\n",
    "    return image.multiply(512).uint8()  \n",
    "\n",
    "## call the conversion    \n",
    "outputVideo = bands.map(lambda x: x.multiply(512).uint8())\n",
    "\n",
    "print(\"about to build video\")\n",
    "\n",
    "#Export to video.\n",
    "# Dubai\n",
    "out = batch.Export.video.toDrive(outputVideo, description='dubai_video_connor', dimensions = 720, framesPerSecond = 2, region=([55.6458,25.3540], [54.8135,25.3540],[54.8135,24.8042],[55.6458,24.8042]), maxFrames=10000)\n",
    "\n",
    "## process the image\n",
    "process = batch.Task.start(out)\n",
    "\n",
    "print(\"process sent to cloud\")"
   ]
  },
  {
   "cell_type": "markdown",
   "metadata": {},
   "source": [
    "## The above tutorial sends the timelapse to your drive. To visualize it imediately, copy the link from below into your browser. "
   ]
  },
  {
   "cell_type": "code",
   "execution_count": 139,
   "metadata": {},
   "outputs": [
    {
     "data": {
      "text/plain": [
       "'https://earthengine.googleapis.com/v1alpha/projects/earthengine-legacy/videoThumbnails/ce9b1658a082cae017631a7bd159e336-b850a1e7b55b1e5ef11ac0151886b1ad:getPixels'"
      ]
     },
     "execution_count": 139,
     "metadata": {},
     "output_type": "execute_result"
    }
   ],
   "source": [
    "\n",
    "band_list = ['B1' , 'B2' , 'B3']\n",
    "region = [[55.6458,25.3540], [54.8135,25.3540],[54.8135,24.8042],[55.6458,24.8042]]\n",
    "\n",
    "vid = outputVideo.getVideoThumbURL({\n",
    "              'dimensions': 720,\n",
    "              'bands': band_list, \n",
    "              'framesPerSecond' : 2,\n",
    "              'region' : ee.Geometry.Polygon([region]) })\n",
    "vid"
   ]
  },
  {
   "cell_type": "code",
   "execution_count": null,
   "metadata": {},
   "outputs": [],
   "source": []
  },
  {
   "cell_type": "code",
   "execution_count": null,
   "metadata": {},
   "outputs": [],
   "source": []
  },
  {
   "cell_type": "markdown",
   "metadata": {},
   "source": [
    "# Movie Building Class:\n",
    "this class I am building based off the tutorial provided by this [blog](http://www.acgeospatial.co.uk/building-time-lapse-imagery-gee/) <dir>\n",
    "    \n",
    "    This still needs to be fixed. I can currently only replicate the blog and am undable to switch to nyc scenery."
   ]
  },
  {
   "cell_type": "code",
   "execution_count": 133,
   "metadata": {},
   "outputs": [],
   "source": [
    "class Time_Lapse_Builder():\n",
    "    \n",
    "    \n",
    "    def __init__(self):\n",
    "        self.collection = None\n",
    "        \n",
    "\n",
    "    def get_collection(self, path_list , row_list , satelite , start_date , end_date , max_cloud_percentage):\n",
    "\n",
    "        # get image collection object\n",
    "        coll = ee.ImageCollection(satelite)\\\n",
    "            .filterDate(start_date, end_date)\\\n",
    "            .filter(ee.Filter.inList('WRS_PATH', path_list))\\\n",
    "            .filter(ee.Filter.inList('WRS_ROW', row_list))\\\n",
    "            .filter(ee.Filter.lt('CLOUD_COVER' , max_cloud_percentage))  # note ~ not less than or equal to\n",
    "\n",
    "        self.collection = coll\n",
    "        \n",
    "        \n",
    "    def build_movie(self , region , band_list , file_name):\n",
    "        from ee import batch\n",
    "        # select the bands we want to video\n",
    "        bands = self.collection.select(band_list)\n",
    "\n",
    "        # call the conversion    \n",
    "        outputVideo = bands.map(lambda x: x.multiply(512).uint8())\n",
    "\n",
    "        #Export to video.\n",
    "        out = batch.Export.video.toDrive( outputVideo, description= file_name, dimensions = 720,\\\n",
    "                            framesPerSecond = 2, region= region, maxFrames=10000)\n",
    "\n",
    "        # process the video\n",
    "        process = batch.Task.start(out)\n",
    "        \n",
    "    def build_movie_url(self , region , band_list):\n",
    "        bands = self.collection.select(band_list)\n",
    "        outputVideo = bands.map(lambda x: x.multiply(512).uint8())\n",
    "        vid = outputVideo.getVideoThumbURL({\n",
    "              'dimensions': 720,\n",
    "              'bands': band_list, \n",
    "              'framesPerSecond' : 2,\n",
    "               'region' : ee.Geometry.Polygon([region]) \n",
    "        })\n",
    "    \n",
    "        return vid\n",
    "        \n",
    "    "
   ]
  },
  {
   "cell_type": "markdown",
   "metadata": {},
   "source": [
    "### Try out the movie class"
   ]
  },
  {
   "cell_type": "code",
   "execution_count": 140,
   "metadata": {},
   "outputs": [],
   "source": [
    "mc = Time_Lapse_Builder()\n",
    "\n",
    "# Try it out\n",
    "p = [14]\n",
    "r = [32]\n",
    "sat = 'LANDSAT/LC08/C01/T1'\n",
    "sd = '2013-05-01'\n",
    "ed = '2020-05-01'\n",
    "cc= 10\n",
    "mc.get_collection(p, r, sat, sd, ed, cc)\n",
    "nyc_bounding_box = ([-74.05107266542949,40.70551138579543],\\\n",
    " [-73.97931820986308,40.68650945998215],\\\n",
    " [-73.89623410341777,40.789523346375084],\\\n",
    " [-73.98961789248027,40.81603138653903])\n",
    "\n",
    "#region = ee.Geometry.Rectangle([-74.04, 40.69, -73.82, 40.94])\n",
    "band_list = ['B4', 'B3', 'B2']\n",
    "file_name = 'New_York_TimeLapse'\n",
    "mc.build_movie(nyc_bounding_box, band_list , file_name)"
   ]
  },
  {
   "cell_type": "code",
   "execution_count": 141,
   "metadata": {},
   "outputs": [
    {
     "data": {
      "text/plain": [
       "'https://earthengine.googleapis.com/v1alpha/projects/earthengine-legacy/videoThumbnails/cf34e2fea0a37c9c25eb8de66ffd427e-8e4298e46b45200dff186dfe2c7b3ea2:getPixels'"
      ]
     },
     "execution_count": 141,
     "metadata": {},
     "output_type": "execute_result"
    }
   ],
   "source": [
    "mc.build_movie_url(nyc_bounding_box, band_list)"
   ]
  },
  {
   "cell_type": "markdown",
   "metadata": {},
   "source": [
    "## Simply replicate the tutorial with nyc.\n",
    "This is not working either!!\n"
   ]
  },
  {
   "cell_type": "code",
   "execution_count": 142,
   "metadata": {},
   "outputs": [
    {
     "name": "stdout",
     "output_type": "stream",
     "text": [
      "about to build video\n",
      "process sent to cloud\n"
     ]
    }
   ],
   "source": [
    "\n",
    "from ee import batch\n",
    "\n",
    "\n",
    "## define your collection\n",
    "collection = ee.ImageCollection('LANDSAT/LC08/C01/T1')\n",
    "\n",
    "#Dubai Path and Row\n",
    "path = collection.filter(ee.Filter.eq('WRS_PATH', 14))\n",
    "pathrow = path.filter(ee.Filter.eq('WRS_ROW', 32))\n",
    " \n",
    "##Filter cloudy scenes.\n",
    "clouds = pathrow.filter(ee.Filter.lt('CLOUD_COVER', 10))\n",
    "\n",
    "## select the bands, we are going for true colour... but could be any!\n",
    "bands = clouds.select(['B1' , 'B2' , 'B3' ])\n",
    "\n",
    "##make the data 8-bit.\n",
    "def convertBit(image):\n",
    "    return image.multiply(512).uint8()  \n",
    "\n",
    "## call the conversion    \n",
    "outputVideo = bands.map(lambda x: x.multiply(512).uint8())\n",
    "\n",
    "print(\"about to build video\")\n",
    "\n",
    "#Export to video.\n",
    "# Dubai\n",
    "#batch.Export.video.toDrive(outputVideo, description='nyc', dimensions = 720, framesPerSecond = 2, region=nyc_bounding_box, maxFrames=10000)\n",
    "batch.Export.video.toDrive(outputVideo, description='nyc', dimensions = 720, framesPerSecond = 2,  maxFrames=10000)\n",
    "\n",
    "## process the image\n",
    "#process = batch.Task.start(out)\n",
    "\n",
    "print(\"process sent to cloud\")"
   ]
  },
  {
   "cell_type": "markdown",
   "metadata": {},
   "source": [
    "### Debugging\n",
    "The images do contain nyc so there is something else going on"
   ]
  },
  {
   "cell_type": "code",
   "execution_count": 143,
   "metadata": {},
   "outputs": [
    {
     "data": {
      "text/html": [
       "<img src=\"https://earthengine.googleapis.com/v1alpha/projects/earthengine-legacy/thumbnails/6d652280b499e060288f37371ad7a8a6-99a820fb3e6b7020b01a470eae528fad:getPixels\"/>"
      ],
      "text/plain": [
       "<IPython.core.display.Image object>"
      ]
     },
     "metadata": {},
     "output_type": "display_data"
    }
   ],
   "source": [
    "parameters = {'min': 0,      # This is the value you map to 0\n",
    "              'max': 16000,   # This is the value you map to 255\n",
    "              'dimensions': 768,\n",
    "              'bands': ['B1' , 'B2' , 'B3'],\n",
    "              'region': ee.Geometry.Rectangle([-74.06, 40.60, -73.82, 40.94]),\n",
    "\n",
    "}\n",
    "# get image_id's\n",
    "image_ids = list( map( lambda x : x['id'] , clouds.getInfo()['features'] ) ) \n",
    "    \n",
    "    # get image objects\n",
    "images = list( map( lambda x: ee.Image(x) , image_ids ) )\n",
    "image1 = images[0]\n",
    "display(Image(url = image1.getThumbUrl(parameters)))"
   ]
  }
 ],
 "metadata": {
  "kernelspec": {
   "display_name": "earth_analytics",
   "language": "python",
   "name": "earth_analytics"
  },
  "language_info": {
   "codemirror_mode": {
    "name": "ipython",
    "version": 3
   },
   "file_extension": ".py",
   "mimetype": "text/x-python",
   "name": "python",
   "nbconvert_exporter": "python",
   "pygments_lexer": "ipython3",
   "version": "3.7.7"
  }
 },
 "nbformat": 4,
 "nbformat_minor": 4
}
