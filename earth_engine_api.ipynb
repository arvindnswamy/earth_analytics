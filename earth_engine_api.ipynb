{
 "cells": [
  {
   "cell_type": "markdown",
   "metadata": {},
   "source": [
    "Author: Connor Finn <br>\n",
    "Date: May 28, 2020 <br>\n",
    "\n",
    "This is a script used to work with the google earth engine api"
   ]
  },
  {
   "cell_type": "code",
   "execution_count": 245,
   "metadata": {},
   "outputs": [
    {
     "data": {
      "text/html": [
       "<p>To authorize access needed by Earth Engine, open the following\n",
       "        URL in a web browser and follow the instructions:</p>\n",
       "        <p><a href=https://accounts.google.com/o/oauth2/auth?client_id=517222506229-vsmmajv00ul0bs7p89v5m89qs8eb9359.apps.googleusercontent.com&scope=https%3A%2F%2Fwww.googleapis.com%2Fauth%2Fearthengine+https%3A%2F%2Fwww.googleapis.com%2Fauth%2Fdevstorage.full_control&redirect_uri=urn%3Aietf%3Awg%3Aoauth%3A2.0%3Aoob&response_type=code&code_challenge=35gTxwBK7KLoWy4v9-f_YFQOiEXNWnjAradbqFEQovI&code_challenge_method=S256>https://accounts.google.com/o/oauth2/auth?client_id=517222506229-vsmmajv00ul0bs7p89v5m89qs8eb9359.apps.googleusercontent.com&scope=https%3A%2F%2Fwww.googleapis.com%2Fauth%2Fearthengine+https%3A%2F%2Fwww.googleapis.com%2Fauth%2Fdevstorage.full_control&redirect_uri=urn%3Aietf%3Awg%3Aoauth%3A2.0%3Aoob&response_type=code&code_challenge=35gTxwBK7KLoWy4v9-f_YFQOiEXNWnjAradbqFEQovI&code_challenge_method=S256</a></p>\n",
       "        <p>The authorization workflow will generate a code, which you\n",
       "        should paste in the box below</p>\n",
       "        "
      ],
      "text/plain": [
       "<IPython.core.display.HTML object>"
      ]
     },
     "metadata": {},
     "output_type": "display_data"
    },
    {
     "name": "stdout",
     "output_type": "stream",
     "text": [
      "Enter verification code: 4/0QHBeusHOe0Fu3BFHNEy5YhPZKWAAsG28QlLRP00IniRbGApk6h9qsA\n",
      "\n",
      "Successfully saved authorization token.\n"
     ]
    }
   ],
   "source": [
    "import ee          # pip install \n",
    "from IPython.display import Image\n",
    "import folium\n",
    "\n",
    "# Trigger the authentication flow.\n",
    "ee.Authenticate()\n"
   ]
  },
  {
   "cell_type": "markdown",
   "metadata": {},
   "source": [
    "Note: origionally the authenticate function worked only on google collab (i.e. not locally) to resolve this, i read this [stack_overflow](https://stackoverflow.com/questions/50236117/scraping-ssl-certificate-verify-failed-error-for-http-en-wikipedia-org) article."
   ]
  },
  {
   "cell_type": "markdown",
   "metadata": {},
   "source": [
    "## Image Visualization\n",
    "This [documentation](https://developers.google.com/earth-engine/image_info) is used for this section."
   ]
  },
  {
   "cell_type": "code",
   "execution_count": 246,
   "metadata": {},
   "outputs": [],
   "source": [
    "ee.Initialize()\n",
    "image = ee.Image('LANDSAT/LC08/C01/T1_TOA/LC08_044035_20140318') # SF Bay area again\n",
    "ndwi = image.normalizedDifference(['B3', 'B5'])  #Compute ND water index"
   ]
  },
  {
   "cell_type": "code",
   "execution_count": 247,
   "metadata": {},
   "outputs": [
    {
     "data": {
      "text/plain": [
       "['B1', 'B2', 'B3', 'B4', 'B5', 'B6', 'B7', 'B8', 'B9', 'B10', 'B11', 'BQA']"
      ]
     },
     "execution_count": 247,
     "metadata": {},
     "output_type": "execute_result"
    }
   ],
   "source": [
    "image = ee.Image('LANDSAT/LC08/C01/T1/LC08_044034_20140318')\n",
    "bands = image.bandNames()\n",
    "bands.getInfo()"
   ]
  },
  {
   "cell_type": "markdown",
   "metadata": {},
   "source": [
    "## Map_Display class ~ interact with API"
   ]
  },
  {
   "cell_type": "code",
   "execution_count": 248,
   "metadata": {
    "scrolled": true
   },
   "outputs": [
    {
     "data": {
      "text/html": [
       "<div style=\"width:100%;\"><div style=\"position:relative;width:100%;height:0;padding-bottom:60%;\"><span style=\"color:#565656\">Make this Notebook Trusted to load map: File -> Trust Notebook</span><iframe src=\"about:blank\" style=\"position:absolute;width:100%;height:100%;left:0;top:0;border:none !important;\" data-html=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 onload=\"this.contentDocument.open();this.contentDocument.write(atob(this.getAttribute('data-html')));this.contentDocument.close();\" allowfullscreen webkitallowfullscreen mozallowfullscreen></iframe></div></div>"
      ],
      "text/plain": [
       "<folium.folium.Map at 0x13e54d350>"
      ]
     },
     "metadata": {},
     "output_type": "display_data"
    }
   ],
   "source": [
    "# I would Like to make my own class for this.\n",
    "class Map_Display():\n",
    "\n",
    "    def __init__(self , location , zoom , height  ):\n",
    "      self.m =  folium.Map(location= location , zoom_start = zoom)\n",
    "\n",
    "\n",
    "    def add_ee_layer(self, ee_image_object, vis_params, name):\n",
    "        map_id_dict = ee.Image(ee_image_object).getMapId(vis_params)\n",
    "        folium.raster_layers.TileLayer(\n",
    "        tiles = map_id_dict['tile_fetcher'].url_format,\n",
    "        attr = \"Map Data © Google Earth Engine\",\n",
    "        name = name,\n",
    "        overlay = True,\n",
    "        control = True\n",
    "        ).add_to(self.m)\n",
    "\n",
    "    def add_child(self , child_object):\n",
    "      self.m.add_child(child_object)\n",
    "\n",
    "    def show_map(self):\n",
    "      display(self.m)\n",
    "\n",
    "# Test it out\n",
    "md = Map_Display([37.2, -121] , zoom = 8 , height = 500)\n",
    "\n",
    "image = ee.Image('LANDSAT/LC08/C01/T1_TOA/LC08_044034_20140318')\n",
    "\n",
    "ndwi = image.normalizedDifference(['B3', 'B5'])  # Water index\n",
    "ndvi = image.normalizedDifference(['B5', 'B4'])  # Land index\n",
    "\n",
    "# Set visualization parameters.\n",
    "vis_params_W = {\n",
    "  'min': 0.5,\n",
    "  'max': 1.0,\n",
    "  'palette': ['00FFFF', '0000FF']}\n",
    "\n",
    "vis_params_V = {\n",
    "  'min': -1,\n",
    "  'max': 1,\n",
    "  #'palette': ['#d73027', '#f46d43', '#fdae61','#fee08b', '#d9ef8b', '#a6d96a', '#66bd63', '#1a9850']\n",
    "  #'palette': ['blue', 'white', 'green']\n",
    "    'palette': ['blue' , 'white' , 'green']\n",
    "  }\n",
    "\n",
    "\n",
    "# # Add the water index model to the map object.\n",
    "md.add_ee_layer(ndwi.updateMask(ndwi.gt(0)), vis_params_W, 'NDWI')\n",
    "\n",
    "# # Add the vegetation index model to the map object.\n",
    "md.add_ee_layer(ndvi, vis_params_V, 'NDVI')\n",
    "\n",
    "\n",
    "# # Add a layer control panel to the map.\n",
    "#md.add_child(folium.LayerControl())\n",
    "\n",
    "new = ee.Image('LANDSAT/LC08/C01/T1/LC08_044034_20140318').select('B8')\n",
    "\n",
    "# path 44, row 34 -> 3 digits for each!!\n",
    "\n",
    "# edge detection using the ee provided kernel\n",
    "canny = ee.Algorithms.CannyEdgeDetector(image = new, threshold = 100, sigma= 1)  # perform edge detection\n",
    "hough = ee.Algorithms.HoughTransform(canny, 256, 600, 100)  # extracts lines from the canny result\n",
    "#md.add_ee_layer(hough, {}, 'hough')\n",
    "\n",
    "\n",
    "\n",
    "md.show_map()\n"
   ]
  },
  {
   "cell_type": "code",
   "execution_count": null,
   "metadata": {},
   "outputs": [],
   "source": []
  },
  {
   "cell_type": "code",
   "execution_count": null,
   "metadata": {},
   "outputs": [],
   "source": []
  },
  {
   "cell_type": "code",
   "execution_count": null,
   "metadata": {},
   "outputs": [],
   "source": []
  },
  {
   "cell_type": "markdown",
   "metadata": {},
   "source": [
    "# Get a range of image objects"
   ]
  },
  {
   "cell_type": "code",
   "execution_count": 249,
   "metadata": {},
   "outputs": [],
   "source": [
    "def get_images(path_list , row_list , satelite , start_date , end_date , max_cloud_percentage):\n",
    "    \n",
    "    # get image collection object\n",
    "    coll = ee.ImageCollection(satelite)\\\n",
    "        .filterDate(start_date, end_date)\\\n",
    "        .filter(ee.Filter.inList('WRS_PATH', path_list))\\\n",
    "        .filter(ee.Filter.inList('WRS_ROW', row_list))\\\n",
    "        .filter(ee.Filter.lt('CLOUD_COVER' , max_cloud_percentage))  # note ~ not less than or equal to\n",
    "\n",
    "    # get image_id's\n",
    "    image_ids = list( map( lambda x : x['id'] , coll.getInfo()['features'] ) ) \n",
    "    \n",
    "    # get image objects\n",
    "    images = list( map( lambda x: ee.Image(x) , image_ids ) )\n",
    "    \n",
    "    return images\n"
   ]
  },
  {
   "cell_type": "code",
   "execution_count": 250,
   "metadata": {},
   "outputs": [],
   "source": [
    "# Try it out\n",
    "p = [44 , 45]\n",
    "r = [33 , 34]\n",
    "sat = 'LANDSAT/LC08/C01/T1'\n",
    "sd = '2013-05-01'\n",
    "ed = '2019-05-01'\n",
    "cc = 25\n",
    "image_list = get_images(p , r , sat , sd , ed , cc)"
   ]
  },
  {
   "cell_type": "code",
   "execution_count": 279,
   "metadata": {},
   "outputs": [
    {
     "data": {
      "text/plain": [
       "{'type': 'Image',\n",
       " 'bands': [{'id': 'max',\n",
       "   'data_type': {'type': 'PixelType',\n",
       "    'precision': 'int',\n",
       "    'min': 0,\n",
       "    'max': 65535},\n",
       "   'crs': 'EPSG:32610',\n",
       "   'crs_transform': [30, 0, 498885, 0, -30, 4416615]}],\n",
       " 'properties': {'system:footprint': {'type': 'LinearRing',\n",
       "   'coordinates': [[-122.55775597448536, 38.215318305737675],\n",
       "    [-121.57085949587822, 38.02860747798267],\n",
       "    [-120.89584870810809, 37.895587559382875],\n",
       "    [-120.89410701327499, 37.89555636763877],\n",
       "    [-120.87612595011385, 37.95211073744802],\n",
       "    [-120.76856043025002, 38.28992665697962],\n",
       "    [-120.60625070849088, 38.79558195658174],\n",
       "    [-120.46890557706466, 39.21960165060856],\n",
       "    [-120.38404918098745, 39.48286081918113],\n",
       "    [-120.38225237499138, 39.48890369198882],\n",
       "    [-120.38103599240829, 39.49334878452604],\n",
       "    [-120.380970648129, 39.49508902147305],\n",
       "    [-120.42058521641712, 39.5028906369411],\n",
       "    [-121.07960215160229, 39.63038668139602],\n",
       "    [-122.50393591321445, 39.89172052693834],\n",
       "    [-122.54074000891984, 39.89817961430362],\n",
       "    [-122.54160203391876, 39.89686857365121],\n",
       "    [-123.01042062139074, 38.29790882819111],\n",
       "    [-122.99180084316339, 38.294522716404835],\n",
       "    [-122.55775597448536, 38.215318305737675]]}}}"
      ]
     },
     "execution_count": 279,
     "metadata": {},
     "output_type": "execute_result"
    }
   ],
   "source": [
    "image_one = image_list[0]\n",
    "\n"
   ]
  },
  {
   "cell_type": "code",
   "execution_count": 261,
   "metadata": {},
   "outputs": [
    {
     "data": {
      "text/plain": [
       "(array([6.000e+01, 6.580e+02, 2.632e+03, 4.344e+03, 1.459e+03, 4.590e+02,\n",
       "        1.840e+02, 1.490e+02, 2.900e+01, 1.000e+00]),\n",
       " array([-0.58922978, -0.49635854, -0.4034873 , -0.31061606, -0.21774482,\n",
       "        -0.12487358, -0.03200234,  0.0608689 ,  0.15374013,  0.24661137,\n",
       "         0.33948261]),\n",
       " <a list of 10 Patch objects>)"
      ]
     },
     "execution_count": 261,
     "metadata": {},
     "output_type": "execute_result"
    },
    {
     "data": {
      "image/png": "[encoded data removed]",
      "text/plain": [
       "<Figure size 432x288 with 1 Axes>"
      ]
     },
     "metadata": {
      "needs_background": "light"
     },
     "output_type": "display_data"
    }
   ],
   "source": [
    "image = image_list[0]\n",
    "ndwi = image.normalizedDifference(['B3', 'B5'])  #Compute ND water index\n",
    "\n",
    "ndwi_dict = ndwi.sample(numPixels = 10000).reduceColumns(ee.Reducer.toList().repeat(1), ['nd'])\n",
    "ndwi_list = ee.List(ndwi_dict.get('list'))\n",
    "ndwi_data = ndwi_list.getInfo()\n",
    "\n",
    "import matplotlib.pyplot as plt\n",
    "plt.hist(ndwi_data[0])"
   ]
  },
  {
   "cell_type": "code",
   "execution_count": null,
   "metadata": {},
   "outputs": [],
   "source": [
    "\n"
   ]
  },
  {
   "cell_type": "code",
   "execution_count": null,
   "metadata": {},
   "outputs": [],
   "source": []
  },
  {
   "cell_type": "markdown",
   "metadata": {},
   "source": [
    "# Working with Geometries"
   ]
  },
  {
   "cell_type": "code",
   "execution_count": 269,
   "metadata": {},
   "outputs": [],
   "source": [
    "# Create a  polygon.\n",
    "baltimore_polygon = ee.Geometry.Polygon([ [-76.56500513879297,39.23125134622654] , [-76.64740259973047,39.234442525841544] \\\n",
    ", [-76.65014918176172,39.29265605735468] , [-76.5608852657461,39.29717289363387] ] )"
   ]
  },
  {
   "cell_type": "code",
   "execution_count": 272,
   "metadata": {},
   "outputs": [
    {
     "ename": "NameError",
     "evalue": "name 'color' is not defined",
     "output_type": "error",
     "traceback": [
      "\u001b[0;31m---------------------------------------------------------------------------\u001b[0m",
      "\u001b[0;31mNameError\u001b[0m                                 Traceback (most recent call last)",
      "\u001b[0;32m<ipython-input-272-75bbfe7a0018>\u001b[0m in \u001b[0;36m<module>\u001b[0;34m\u001b[0m\n\u001b[1;32m      1\u001b[0m \u001b[0mmd3\u001b[0m \u001b[0;34m=\u001b[0m \u001b[0mMap_Display\u001b[0m\u001b[0;34m(\u001b[0m\u001b[0;34m[\u001b[0m\u001b[0;36m37.2\u001b[0m\u001b[0;34m,\u001b[0m \u001b[0;34m-\u001b[0m\u001b[0;36m121\u001b[0m\u001b[0;34m]\u001b[0m \u001b[0;34m,\u001b[0m \u001b[0mzoom\u001b[0m \u001b[0;34m=\u001b[0m \u001b[0;36m8\u001b[0m \u001b[0;34m,\u001b[0m \u001b[0mheight\u001b[0m \u001b[0;34m=\u001b[0m \u001b[0;36m500\u001b[0m\u001b[0;34m)\u001b[0m\u001b[0;34m\u001b[0m\u001b[0;34m\u001b[0m\u001b[0m\n\u001b[0;32m----> 2\u001b[0;31m \u001b[0mmd\u001b[0m\u001b[0;34m.\u001b[0m\u001b[0madd_ee_layer\u001b[0m\u001b[0;34m(\u001b[0m\u001b[0mbaltimore_polygon\u001b[0m\u001b[0;34m,\u001b[0m \u001b[0;34m{\u001b[0m\u001b[0mcolor\u001b[0m\u001b[0;34m:\u001b[0m \u001b[0;34m'FF0000'\u001b[0m\u001b[0;34m}\u001b[0m\u001b[0;34m,\u001b[0m \u001b[0;34m'bmore'\u001b[0m\u001b[0;34m)\u001b[0m\u001b[0;34m\u001b[0m\u001b[0;34m\u001b[0m\u001b[0m\n\u001b[0m\u001b[1;32m      3\u001b[0m \u001b[0mmd3\u001b[0m\u001b[0;34m.\u001b[0m\u001b[0mshow_map\u001b[0m\u001b[0;34m(\u001b[0m\u001b[0;34m)\u001b[0m\u001b[0;34m\u001b[0m\u001b[0;34m\u001b[0m\u001b[0m\n",
      "\u001b[0;31mNameError\u001b[0m: name 'color' is not defined"
     ]
    }
   ],
   "source": [
    "md3 = Map_Display([37.2, -121] , zoom = 8 , height = 500)\n",
    "md.add_ee_layer(baltimore_polygon, , 'bmore')\n",
    "md3.show_map()"
   ]
  },
  {
   "cell_type": "code",
   "execution_count": null,
   "metadata": {},
   "outputs": [],
   "source": []
  },
  {
   "cell_type": "markdown",
   "metadata": {},
   "source": [
    "# Investigating ImageCollectionObjects"
   ]
  },
  {
   "cell_type": "code",
   "execution_count": 126,
   "metadata": {},
   "outputs": [
    {
     "data": {
      "text/plain": [
       "dict_keys(['type', 'bands', 'id', 'version', 'properties', 'features'])"
      ]
     },
     "execution_count": 126,
     "metadata": {},
     "output_type": "execute_result"
    }
   ],
   "source": [
    "coll.getInfo().keys()"
   ]
  },
  {
   "cell_type": "code",
   "execution_count": 241,
   "metadata": {},
   "outputs": [
    {
     "data": {
      "text/plain": [
       "{'id': 'B1',\n",
       " 'data_type': {'type': 'PixelType',\n",
       "  'precision': 'int',\n",
       "  'min': 0,\n",
       "  'max': 65535},\n",
       " 'dimensions': [7571, 7371],\n",
       " 'crs': 'EPSG:32610',\n",
       " 'crs_transform': [30, 0, 462585, 0, -30, 4257915]}"
      ]
     },
     "execution_count": 241,
     "metadata": {},
     "output_type": "execute_result"
    }
   ],
   "source": [
    "\n",
    "coll.getInfo().keys()\n",
    "coll.getInfo()['features'][0].keys()\n",
    "\n",
    "\n",
    "type(coll.getInfo()['features'][0]['bands'])\n",
    "\n",
    "coll.getInfo()['features'][0]['bands'][0]\n",
    "#coll.getInfo()['features'][0].keys()\n",
    "\n",
    "#coll.getInfo()['features'][0]['properties'].keys()\n",
    "\n",
    "\n",
    "#coll.getInfo()['features'][0]['properties']\n"
   ]
  }
 ],
 "metadata": {
  "kernelspec": {
   "display_name": "earth_analytics",
   "language": "python",
   "name": "earth_analytics"
  },
  "language_info": {
   "codemirror_mode": {
    "name": "ipython",
    "version": 3
   },
   "file_extension": ".py",
   "mimetype": "text/x-python",
   "name": "python",
   "nbconvert_exporter": "python",
   "pygments_lexer": "ipython3",
   "version": "3.7.7"
  }
 },
 "nbformat": 4,
 "nbformat_minor": 4
}
